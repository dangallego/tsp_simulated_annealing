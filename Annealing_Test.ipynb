{
 "cells": [
  {
   "cell_type": "code",
   "execution_count": 1,
   "id": "8d0e455b",
   "metadata": {},
   "outputs": [],
   "source": [
    "import math \n",
    "import random \n",
    "import numpy"
   ]
  },
  {
   "cell_type": "code",
   "execution_count": 16,
   "id": "d30b9194",
   "metadata": {},
   "outputs": [
    {
     "data": {
      "text/plain": [
       "[0, 1]"
      ]
     },
     "execution_count": 16,
     "metadata": {},
     "output_type": "execute_result"
    }
   ],
   "source": [
    "# Example of random sample method\n",
    "random.sample(range(5), 2)  # Picks two random UNIQUE numbers from a set of numbers -- use this for swap"
   ]
  },
  {
   "cell_type": "code",
   "execution_count": 18,
   "id": "e5627661",
   "metadata": {},
   "outputs": [
    {
     "data": {
      "text/plain": [
       "0.7763942872791783"
      ]
     },
     "execution_count": 18,
     "metadata": {},
     "output_type": "execute_result"
    }
   ],
   "source": [
    "# Draws random number between 0 and 1 -- use for probability of accepting worse route\n",
    "random.random()"
   ]
  },
  {
   "cell_type": "code",
   "execution_count": 19,
   "id": "5c915544",
   "metadata": {},
   "outputs": [],
   "source": [
    "def simulated_annealing_tsp(cities, distances,\n",
    "                            T=1000, T_min=1e-3, alpha=0.9, max_iter=100000):\n",
    "    \"\"\"\n",
    "    Solves the Traveling Salesman Problem (TSP) using Simulated Annealing.\n",
    "\n",
    "    Parameters:\n",
    "        cities (list of str): List of city names.\n",
    "        distances (list or array-type): 2D list (matrix) of distances between cities.\n",
    "        T (float, optional): Initial temperature for annealing.\n",
    "        T_min (float, optional): Minimum temperature to stop the process.\n",
    "        alpha (float, optional): Cooling rate (should be close to 1, e.g., 0.995).\n",
    "        max_iter (float, optional): Maximum allowed number of iterations.\n",
    "\n",
    "    Returns:\n",
    "        best_route (list of str): List of city names representing the best route found.\n",
    "        best_distance (float): Total distance of the best route.\n",
    "        temperature_at_best (float): Temperature at which the best route was found.\n",
    "    \"\"\"\n",
    "\n",
    "    n = len(cities)  # Number of cities\n",
    "    city_indices = list(range(n))  # City indices [0, 1, 2, ..., n-1]\n",
    "\n",
    "    # --- Helper Functions ---\n",
    "\n",
    "    def route_distance(route_indices):\n",
    "        \"\"\"\n",
    "        Calculates the total distance of a given route (list of city indices),\n",
    "        including the return trip back to the starting city.\n",
    "        \n",
    "        Parameters:\n",
    "            route_indices (list of int): List of city indices representing the route.\n",
    "\n",
    "        Returns:\n",
    "            float: Total distance of the route, including the return trip to the starting city.\n",
    "        \"\"\"\n",
    "        return sum(distances[route_indices[i]][route_indices[i + 1]] for i in range(n - 1)) \\\n",
    "               + distances[route_indices[-1]][route_indices[0]] # Adds distance from last city to start city\n",
    "\n",
    "    def propose_new_route(route):\n",
    "        \"\"\"\n",
    "        Proposes a neighboring route by swapping two randomly selected cities.\n",
    "        \n",
    "        Parameters: \n",
    "            route (list of int): Current route represented as a list of city indices.\n",
    "\n",
    "        Returns:\n",
    "            (list of int): New route with two cities swapped.\n",
    "        \"\"\"\n",
    "        new_route = route.copy()  # Copy in case we reject new route\n",
    "        i, j = random.sample(range(n), 2)\n",
    "        new_route[i], new_route[j] = new_route[j], new_route[i]\n",
    "        return new_route\n",
    "\n",
    "    # --- Initialization ---\n",
    "\n",
    "    current_route = city_indices.copy()  \n",
    "    random.shuffle(current_route)  # Start with a random route\n",
    "    current_distance = route_distance(current_route)  # Cost / \"energy\" of initial solution\n",
    "\n",
    "    # Best known solution\n",
    "    best_route = current_route.copy()  # Assume for now that first route is best\n",
    "    best_distance = current_distance   # Update if we find better values of distance\n",
    "    temperature_at_best = T  # T0, update if we find better routes during cooling step\n",
    "    iteration = 0  # might be useful to keep track of for plottinh later\n",
    "\n",
    "    # --- Main Annealing Loop ---\n",
    "\n",
    "    while T > T_min and iteration < max_iter:\n",
    "        iteration += 1\n",
    "\n",
    "        # Propose a new route by swapping two cities\n",
    "        candidate_route = propose_new_route(current_route)\n",
    "        candidate_distance = route_distance(candidate_route)\n",
    "\n",
    "        # Calculate energy difference\n",
    "        delta_E = candidate_distance - current_distance\n",
    "\n",
    "        # Apply Metropolis acceptance rule, check if new state has higher or lower energy\n",
    "        if delta_E < 0:\n",
    "            # Better solution: accept automatically\n",
    "            current_route = candidate_route\n",
    "            current_distance = candidate_distance\n",
    "        else:\n",
    "            # Worse solution: accept with a certain probability (more exploration at higher T)\n",
    "            acceptance_probability = math.exp(-delta_E / T)\n",
    "            if random.random() < acceptance_probability:\n",
    "                current_route = candidate_route\n",
    "                current_distance = candidate_distance\n",
    "            # Else reject move and stay with the current route\n",
    "\n",
    "        # Update the best solution found so far\n",
    "        if current_distance < best_distance:\n",
    "            best_distance = current_distance\n",
    "            best_route = current_route[:]\n",
    "            temperature_at_best = T\n",
    "\n",
    "        # Cool down the system\n",
    "        T *= alpha\n",
    "\n",
    "    # --- Wrap-up ---\n",
    "\n",
    "    # Convert best route from indices back to city names\n",
    "    best_route_named = [cities[idx] for idx in best_route] + [cities[best_route[0]]]\n",
    "\n",
    "    return best_route_named, best_distance, temperature_at_best\n"
   ]
  },
  {
   "cell_type": "code",
   "execution_count": 20,
   "id": "d52a6ca7",
   "metadata": {},
   "outputs": [
    {
     "name": "stdout",
     "output_type": "stream",
     "text": [
      "Optimal Route: Paris -> Dijon -> Besancon -> Mulhouse -> Strasbourg -> Nancy -> Paris\n",
      "Total Distance: 946.00 km\n",
      "Found at Temperature: 1000.0000\n"
     ]
    }
   ],
   "source": [
    "# Example \n",
    "\n",
    "cities = ['Strasbourg', 'Nancy', 'Paris', 'Mulhouse', 'Dijon', 'Besancon']\n",
    "distances = [\n",
    "    [0, 116, 398, 97, 245, 197],\n",
    "    [116, 0, 281, 136, 174, 163],\n",
    "    [398, 281, 0, 389, 263, 327],\n",
    "    [97, 136, 389, 0, 178, 114],\n",
    "    [245, 174, 263, 178, 0, 75],\n",
    "    [197, 163, 327, 114, 75, 0]\n",
    "]\n",
    "\n",
    "best_route, best_distance, temp_at_best = simulated_annealing_tsp(cities, distances)\n",
    "\n",
    "print(\"Optimal Route:\", \" -> \".join(best_route))\n",
    "print(f\"Total Distance: {best_distance:.2f} km\")\n",
    "print(f\"Found at Temperature: {temp_at_best:.4f}\")\n"
   ]
  },
  {
   "cell_type": "code",
   "execution_count": null,
   "id": "10a69649",
   "metadata": {},
   "outputs": [],
   "source": []
  }
 ],
 "metadata": {
  "kernelspec": {
   "display_name": "Python 3 (ipykernel)",
   "language": "python",
   "name": "python3"
  },
  "language_info": {
   "codemirror_mode": {
    "name": "ipython",
    "version": 3
   },
   "file_extension": ".py",
   "mimetype": "text/x-python",
   "name": "python",
   "nbconvert_exporter": "python",
   "pygments_lexer": "ipython3",
   "version": "3.10.9"
  }
 },
 "nbformat": 4,
 "nbformat_minor": 5
}
