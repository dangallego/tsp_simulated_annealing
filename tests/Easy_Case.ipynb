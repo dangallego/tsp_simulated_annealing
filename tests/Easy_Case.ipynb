{
 "cells": [
  {
   "cell_type": "markdown",
   "id": "7c909e50",
   "metadata": {},
   "source": [
    "### Objective of notebook is to find \"easy\" method for getting all the permutations and finding the shortest distance "
   ]
  },
  {
   "cell_type": "code",
   "execution_count": 3,
   "id": "62ac7ab6",
   "metadata": {},
   "outputs": [],
   "source": [
    "import numpy as np\n",
    "import itertools"
   ]
  },
  {
   "cell_type": "code",
   "execution_count": 39,
   "id": "9d13f522",
   "metadata": {},
   "outputs": [
    {
     "name": "stdout",
     "output_type": "stream",
     "text": [
      "All permutations of ['A', 'B', 'C']:\n",
      "('A', 'B', 'C')\n",
      "('A', 'C', 'B')\n",
      "('B', 'A', 'C')\n",
      "('B', 'C', 'A')\n",
      "('C', 'A', 'B')\n",
      "('C', 'B', 'A')\n"
     ]
    }
   ],
   "source": [
    "# Itertools example \n",
    "\n",
    "# List of items\n",
    "items = ['A', 'B', 'C']\n",
    "\n",
    "# Generate all permutations of the entire list\n",
    "all_permutations = list(itertools.permutations(items))\n",
    "\n",
    "print(\"All permutations of ['A', 'B', 'C']:\")\n",
    "for perm in all_permutations:\n",
    "    print(perm)\n"
   ]
  },
  {
   "cell_type": "code",
   "execution_count": 6,
   "id": "47d1b481",
   "metadata": {},
   "outputs": [],
   "source": [
    "# Number of cities (simple case)\n",
    "N = 4\n",
    "\n",
    "# Let's simplify city names\n",
    "cities = ['A', 'B', 'C', 'D'] \n",
    "# A = index 0; B = index 1; C = index 2; D = index 3"
   ]
  },
  {
   "cell_type": "code",
   "execution_count": 27,
   "id": "1f6e5515",
   "metadata": {},
   "outputs": [],
   "source": [
    "# Adjacency matrix with distances between the cities \n",
    "distances = [\n",
    "    [0, 10, 15, 20], # Distances from A\n",
    "    [10, 0, 35, 25], # Distances from B \n",
    "    [15, 35, 0, 30], # Distances from C\n",
    "    [20, 25, 30, 0]  # Distances from D\n",
    "]"
   ]
  },
  {
   "cell_type": "code",
   "execution_count": 28,
   "id": "a4f2e0d0",
   "metadata": {},
   "outputs": [],
   "source": [
    "# We can start with city A \n",
    "start_city_index = 0\n",
    "start_city = cities[start_city_index]"
   ]
  },
  {
   "cell_type": "code",
   "execution_count": 33,
   "id": "24a35f0c",
   "metadata": {},
   "outputs": [
    {
     "data": {
      "text/plain": [
       "['B', 'C', 'D']"
      ]
     },
     "execution_count": 33,
     "metadata": {},
     "output_type": "execute_result"
    }
   ],
   "source": [
    "# Generate all permutations of the other cities (while start city is fixed)\n",
    "other_cities = cities[:start_city_index] + cities[start_city_index+1:]\n",
    "other_cities"
   ]
  },
  {
   "cell_type": "code",
   "execution_count": 34,
   "id": "a9f82dbd",
   "metadata": {},
   "outputs": [
    {
     "name": "stdout",
     "output_type": "stream",
     "text": [
      "The shortest route is A -> B -> D -> C -> A with a distance of 80.\n",
      "Total number of permutations processed: 6\n"
     ]
    }
   ],
   "source": [
    "all_permutations = itertools.permutations(other_cities)  # iterator: generates items as you loop through it\n",
    "\n",
    "# Find the route with the minimum distance\n",
    "min_distance = float('inf')  # Check \n",
    "best_route = None\n",
    "\n",
    "# Keep track of total number of permutations\n",
    "permutation_count = 0\n",
    "\n",
    "# Loop through permutations iterator \n",
    "for perm in all_permutations:\n",
    "    \n",
    "    permutation_count += 1\n",
    "    \n",
    "    # Start at the initial city, go through the permutation, return to the start (cyclic case)\n",
    "    route = [start_city] + list(perm) + [start_city]\n",
    "    # Calculate the total distance of this route\n",
    "    total_distance = sum(distances[cities.index(route[i])][cities.index(route[i + 1])] for i in range(len(route) - 1))\n",
    "    \n",
    "    # Update the best route found\n",
    "    if total_distance < min_distance:\n",
    "        min_distance = total_distance\n",
    "        best_route = route\n",
    "\n",
    "print(f\"The shortest route is {' -> '.join(best_route)} with a distance of {min_distance}.\")\n",
    "print(f\"Total number of permutations processed: {permutation_count}\")"
   ]
  },
  {
   "cell_type": "markdown",
   "id": "714a623d",
   "metadata": {},
   "source": [
    "### Now do this where you do NOT fix the first city (consider all city start points)"
   ]
  },
  {
   "cell_type": "code",
   "execution_count": 36,
   "id": "8b83e8c5",
   "metadata": {},
   "outputs": [
    {
     "name": "stdout",
     "output_type": "stream",
     "text": [
      "The shortest route is A -> B -> D -> C -> A with a distance of 80.\n",
      "Total number of permutations processed: 24\n"
     ]
    }
   ],
   "source": [
    "# Define the cities and distances\n",
    "cities = ['A', 'B', 'C', 'D']\n",
    "distances = [\n",
    "    [0, 10, 15, 20],  # Distances from A\n",
    "    [10, 0, 35, 25],  # Distances from B\n",
    "    [15, 35, 0, 30],  # Distances from C\n",
    "    [20, 25, 30, 0]   # Distances from D\n",
    "]\n",
    "\n",
    "# Generate all permutations of all cities\n",
    "all_permutations = itertools.permutations(cities)\n",
    "\n",
    "# Initialize variables to track the minimum distance and best route\n",
    "min_distance = float('inf')\n",
    "best_route = None\n",
    "permutation_count = 0\n",
    "\n",
    "# Iterate through each permutation\n",
    "for perm in all_permutations:\n",
    "    permutation_count += 1\n",
    "    # Cycle the route back to the starting city to complete the loop\n",
    "    route = list(perm) + [perm[0]]\n",
    "    total_distance = 0\n",
    "    \n",
    "    # Iterate over each city in the route except the last one\n",
    "    for i in range(len(route) - 1):\n",
    "        current_city_index = cities.index(route[i]) # Index corresponds to the row in the distances matrix\n",
    "        next_city_index = cities.index(route[i + 1]) # Index corresponds to column in distances matrix\n",
    "        # Retrieve the distance between these two cities from the distances matrix\n",
    "        distance_to_next_city = distances[current_city_index][next_city_index] \n",
    "        total_distance += distance_to_next_city  # Add distance to total distance of route\n",
    "    \n",
    "    total_distance = sum(distances[cities.index(route[i])][cities.index(route[i + 1])] for i in range(len(route) - 1))\n",
    "    \n",
    "    if total_distance < min_distance:\n",
    "        min_distance = total_distance\n",
    "        best_route = route\n",
    "\n",
    "# Display the best route found and the number of permutations processed\n",
    "if best_route:\n",
    "    print(f\"The shortest route is {' -> '.join(best_route)} with a distance of {min_distance}.\")\n",
    "else:\n",
    "    print(\"No valid route was found.\")\n",
    "print(f\"Total number of permutations processed: {permutation_count}\")\n"
   ]
  },
  {
   "cell_type": "code",
   "execution_count": 38,
   "id": "105bdfc4",
   "metadata": {},
   "outputs": [
    {
     "name": "stdout",
     "output_type": "stream",
     "text": [
      "The shortest route is Strasbourg -> Nancy -> Paris -> Dijon -> Besancon -> Mulhouse -> Strasbourg with a distance of 946km.\n",
      "Total number of permutations processed: 720\n"
     ]
    }
   ],
   "source": [
    "## REAL CITY TEST CASE \n",
    "# Define the cities and distances\n",
    "\n",
    "cities = ['Strasbourg', 'Nancy', 'Paris', 'Mulhouse', 'Dijon', 'Besancon']\n",
    "\n",
    "distances = [\n",
    "    [0, 116, 398, 97, 245, 197],  # Distances from Strasbourg\n",
    "    [116, 0, 281, 136, 174, 163], # Distances from Nancy \n",
    "    [398, 281, 0, 389, 263, 327], # Distances from Paris\n",
    "    [97, 136, 389, 0, 178, 114],  # Distances from Mulhouse\n",
    "    [245, 174, 263, 178, 0, 75],  # Distances from Dijon \n",
    "    [197, 163, 327, 114, 75, 0]   # Distances from Besancon\n",
    "]\n",
    "\n",
    "# Generate all permutations of all cities\n",
    "all_permutations = itertools.permutations(cities)\n",
    "\n",
    "# Initialize variables to track the minimum distance and best route\n",
    "min_distance = float('inf')\n",
    "best_route = None\n",
    "permutation_count = 0\n",
    "\n",
    "# Iterate through each permutation\n",
    "for perm in all_permutations:\n",
    "    permutation_count += 1\n",
    "    # Cycle the route back to the starting city to complete the loop\n",
    "    route = list(perm) + [perm[0]]\n",
    "    total_distance = 0\n",
    "    \n",
    "    # Iterate over each city in the route except the last one\n",
    "    for i in range(len(route) - 1):\n",
    "        current_city_index = cities.index(route[i]) # Index corresponds to the row in the distances matrix\n",
    "        next_city_index = cities.index(route[i + 1]) # Index corresponds to column in distances matrix\n",
    "        # Retrieve the distance between these two cities from the distances matrix\n",
    "        distance_to_next_city = distances[current_city_index][next_city_index] \n",
    "        total_distance += distance_to_next_city  # Add distance to total distance of route\n",
    "    \n",
    "    total_distance = sum(distances[cities.index(route[i])][cities.index(route[i + 1])] for i in range(len(route) - 1))\n",
    "    \n",
    "    if total_distance < min_distance:\n",
    "        min_distance = total_distance\n",
    "        best_route = route\n",
    "\n",
    "# Display the best route found and the number of permutations processed\n",
    "if best_route:\n",
    "    print(f\"The shortest route is {' -> '.join(best_route)} with a distance of {min_distance}km.\")\n",
    "else:\n",
    "    print(\"No valid route was found.\")\n",
    "print(f\"Total number of permutations processed: {permutation_count}\")\n"
   ]
  },
  {
   "cell_type": "code",
   "execution_count": null,
   "id": "78e2a78e",
   "metadata": {},
   "outputs": [],
   "source": []
  },
  {
   "cell_type": "code",
   "execution_count": null,
   "id": "3a0df591",
   "metadata": {},
   "outputs": [],
   "source": []
  }
 ],
 "metadata": {
  "kernelspec": {
   "display_name": "Python 3 (ipykernel)",
   "language": "python",
   "name": "python3"
  },
  "language_info": {
   "codemirror_mode": {
    "name": "ipython",
    "version": 3
   },
   "file_extension": ".py",
   "mimetype": "text/x-python",
   "name": "python",
   "nbconvert_exporter": "python",
   "pygments_lexer": "ipython3",
   "version": "3.10.9"
  }
 },
 "nbformat": 4,
 "nbformat_minor": 5
}
